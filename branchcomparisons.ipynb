{
 "cells": [
  {
   "cell_type": "code",
   "execution_count": 1,
   "metadata": {},
   "outputs": [
    {
     "name": "stdout",
     "output_type": "stream",
     "text": [
      "Welcome to JupyROOT 6.24/06\n"
     ]
    }
   ],
   "source": [
    "import ROOT\n",
    "import os\n",
    "import re\n",
    "from pprint import pprint"
   ]
  },
  {
   "cell_type": "code",
   "execution_count": 2,
   "metadata": {},
   "outputs": [],
   "source": [
    "# directory = \"/work/rhillman/Data/nobib\"\n",
    "# treename = \"events\"\n",
    "\n",
    "# for file in os.listdir(directory):\n",
    "#     filepath = os.path.join(directory, file)\n",
    "#     if os.path.isfile(filepath):\n",
    "#         print(filepath)\n",
    "# dataframe_dictionary = {}\n",
    "# i = 0\n",
    "# for file in os.listdir(directory):\n",
    "#     filepath = os.path.join(directory, file)\n",
    "#     index = f\"{i:<3}\"\n",
    "#     new_dictionary_entry = {f\"df{index}\": ROOT.RDataFrame(treename, filepath)}\n",
    "#     dataframe_dictionary.update(new_dictionary_entry)\n",
    "#     i += 1\n",
    "# pprint(dataframe_dictionary)\n"
   ]
  },
  {
   "cell_type": "code",
   "execution_count": 3,
   "metadata": {},
   "outputs": [],
   "source": [
    "treename = \"events\"\n",
    "filename = \"/work/rhillman/Data/nobib/photonGun_1000_reco_990.root\"\n",
    "df = ROOT.RDataFrame(treename, filename)"
   ]
  },
  {
   "cell_type": "code",
   "execution_count": 4,
   "metadata": {},
   "outputs": [
    {
     "ename": "runtime_error",
     "evalue": "TH2D& ROOT::RDF::RResultPtr<TH2D>::operator*() =>\n    runtime_error: Cannot fill histogram with values in containers of different sizes.",
     "output_type": "error",
     "traceback": [
      "\u001b[0;31m---------------------------------------------------------------------------\u001b[0m",
      "\u001b[0;31mruntime_error\u001b[0m                             Traceback (most recent call last)",
      "\u001b[0;32m/tmp/ipykernel_1953151/3037494576.py\u001b[0m in \u001b[0;36m<module>\u001b[0;34m\u001b[0m\n\u001b[1;32m     10\u001b[0m \u001b[0mc1\u001b[0m \u001b[0;34m=\u001b[0m \u001b[0mROOT\u001b[0m\u001b[0;34m.\u001b[0m\u001b[0mTCanvas\u001b[0m\u001b[0;34m(\u001b[0m\u001b[0;34m)\u001b[0m\u001b[0;34m\u001b[0m\u001b[0;34m\u001b[0m\u001b[0m\n\u001b[1;32m     11\u001b[0m \u001b[0mh1\u001b[0m \u001b[0;34m=\u001b[0m \u001b[0mdf\u001b[0m\u001b[0;34m.\u001b[0m\u001b[0mHisto2D\u001b[0m\u001b[0;34m(\u001b[0m\u001b[0;34m(\u001b[0m\u001b[0;34m\"h1\"\u001b[0m\u001b[0;34m,\u001b[0m \u001b[0;34m\"h1\"\u001b[0m\u001b[0;34m,\u001b[0m \u001b[0mnbinsx\u001b[0m\u001b[0;34m,\u001b[0m \u001b[0mxlow\u001b[0m\u001b[0;34m,\u001b[0m \u001b[0mxhigh\u001b[0m\u001b[0;34m,\u001b[0m \u001b[0mnbinsy\u001b[0m\u001b[0;34m,\u001b[0m \u001b[0mylow\u001b[0m\u001b[0;34m,\u001b[0m \u001b[0myhigh\u001b[0m\u001b[0;34m)\u001b[0m\u001b[0;34m,\u001b[0m \u001b[0mx\u001b[0m\u001b[0;34m,\u001b[0m \u001b[0my\u001b[0m\u001b[0;34m)\u001b[0m\u001b[0;34m\u001b[0m\u001b[0;34m\u001b[0m\u001b[0m\n\u001b[0;32m---> 12\u001b[0;31m \u001b[0mh1\u001b[0m\u001b[0;34m.\u001b[0m\u001b[0mDraw\u001b[0m\u001b[0;34m(\u001b[0m\u001b[0;34m)\u001b[0m\u001b[0;34m\u001b[0m\u001b[0;34m\u001b[0m\u001b[0m\n\u001b[0m\u001b[1;32m     13\u001b[0m \u001b[0mc1\u001b[0m\u001b[0;34m.\u001b[0m\u001b[0mDraw\u001b[0m\u001b[0;34m(\u001b[0m\u001b[0;34m)\u001b[0m\u001b[0;34m\u001b[0m\u001b[0;34m\u001b[0m\u001b[0m\n",
      "\u001b[0;31mruntime_error\u001b[0m: TH2D& ROOT::RDF::RResultPtr<TH2D>::operator*() =>\n    runtime_error: Cannot fill histogram with values in containers of different sizes."
     ]
    },
    {
     "name": "stderr",
     "output_type": "stream",
     "text": [
      "Warning in <TClass::Init>: no dictionary for class edm4hep::TrackerHitPlaneData is available\n",
      "Warning in <TClass::Init>: no dictionary for class edm4hep::Vector2f is available\n",
      "Warning in <TClass::Init>: no dictionary for class edm4hep::Quantity is available\n",
      "Warning in <TClass::Init>: no dictionary for class podio::version::Version is available\n",
      "RDataFrame::Run: event loop was interrupted\n"
     ]
    }
   ],
   "source": [
    "x = \"ECALBarrel.energy\"\n",
    "y = \"ECalBarrelCollection.energy\"\n",
    "nbinsx = 10000\n",
    "nbinsy = nbinsx\n",
    "xlow = 0\n",
    "ylow = 0\n",
    "xhigh = 100\n",
    "yhigh = 100\n",
    "\n",
    "c1 = ROOT.TCanvas()\n",
    "h1 = ROOT.TH1D(\"h1\", \"h1\", nbinsx, xlow, xhigh, nbinsy, ylow, yhigh)\n",
    "\n",
    "for i in df:\n",
    "    \n",
    "\n",
    "h1.Draw()\n",
    "c1.Draw()"
   ]
  }
 ],
 "metadata": {
  "kernelspec": {
   "display_name": "Python 3",
   "language": "python",
   "name": "python3"
  },
  "language_info": {
   "codemirror_mode": {
    "name": "ipython",
    "version": 3
   },
   "file_extension": ".py",
   "mimetype": "text/x-python",
   "name": "python",
   "nbconvert_exporter": "python",
   "pygments_lexer": "ipython3",
   "version": "3.9.6"
  },
  "orig_nbformat": 4
 },
 "nbformat": 4,
 "nbformat_minor": 2
}
