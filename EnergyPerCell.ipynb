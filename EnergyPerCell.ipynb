{
 "cells": [
  {
   "cell_type": "markdown",
   "metadata": {},
   "source": [
    "# Energy Deposits per Detector Cell\n",
    "---\n",
    "\n",
    "The goal of this notebook is to help answer the following question: *How often in a given cell does BIB get in the way of reconstructing the particles we want to look at?*\n",
    "\n",
    "To do so, we'll try to plot energy deposits per detector cell."
   ]
  },
  {
   "cell_type": "code",
   "execution_count": 1,
   "metadata": {},
   "outputs": [
    {
     "name": "stdout",
     "output_type": "stream",
     "text": [
      "Welcome to JupyROOT 6.24/06\n"
     ]
    }
   ],
   "source": [
    "import ROOT as rt\n",
    "import selections\n",
    "\n",
    "# rt.EnableImplicitMT(1)  # Multithreading\n",
    "# rt.gEnv.Print()         # View ROOT properties"
   ]
  },
  {
   "cell_type": "code",
   "execution_count": 2,
   "metadata": {},
   "outputs": [],
   "source": [
    "# %%bash\n",
    "# rootls -l /work/rhillman/Data/photonGun_1000_reco_990.root"
   ]
  },
  {
   "cell_type": "code",
   "execution_count": 3,
   "metadata": {},
   "outputs": [],
   "source": [
    "treename = \"events\"\n",
    "filename = \"/work/rhillman/Data/photonGun_1000_reco_990.root\"\n",
    "df = rt.RDataFrame(treename, filename)"
   ]
  },
  {
   "cell_type": "code",
   "execution_count": 4,
   "metadata": {},
   "outputs": [
    {
     "name": "stdout",
     "output_type": "stream",
     "text": [
      "******************************************************************************\n",
      "*Chain   :events    : /work/rhillman/Data/photonGun_1000_reco_990.root       *\n",
      "******************************************************************************\n",
      "******************************************************************************\n",
      "*Tree    :events    : events data tree                                       *\n",
      "*Entries :       10 : Total =       138512552 bytes  File  Size =   62843895 *\n",
      "*        :          : Tree compression factor =   2.20                       *\n",
      "******************************************************************************\n",
      "*Br    0 :ECalBarrelCollection : Int_t ECalBarrelCollection_                 *\n",
      "*Entries :       10 : Total  Size=       6193 bytes  File Size  =        274 *\n",
      "*Baskets :        2 : Basket Size=      32000 bytes  Compression=   1.00     *\n",
      "*............................................................................*\n",
      "*Br    1 :ECalBarrelCollection.cellID : ULong_t cellID[ECalBarrelCollection_]*\n",
      "*Entries :       10 : Total  Size=     616835 bytes  File Size  =     285238 *\n",
      "*Baskets :        6 : Basket Size=     402944 bytes  Compression=   2.16     *\n",
      "*............................................................................*\n",
      "*Br    2 :ECalBarrelCollection.energy : Float_t energy[ECalBarrelCollection_]*\n",
      "*Entries :       10 : Total  Size=     309091 bytes  File Size  =     283397 *\n",
      "*Baskets :        6 : Basket Size=     202240 bytes  Compression=   1.09     *\n",
      "*............................................................................*\n",
      "*Br    3 :ECalBarrelCollection.position.x : Float_t x[ECalBarrelCollection_] *\n",
      "*Entries :       10 : Total  Size=     309113 bytes  File Size  =     116446 *\n",
      "*Baskets :        6 : Basket Size=     202240 bytes  Compression=   2.65     *\n",
      "*............................................................................*\n",
      "*Br    4 :ECalBarrelCollection.position.y : Float_t y[ECalBarrelCollection_] *\n",
      "*Entries :       10 : Total  Size=     309113 bytes  File Size  =      93075 *\n",
      "*Baskets :        6 : Basket Size=     202240 bytes  Compression=   3.31     *\n",
      "*............................................................................*\n",
      "*Br    5 :ECalBarrelCollection.position.z : Float_t z[ECalBarrelCollection_] *\n",
      "*Entries :       10 : Total  Size=     309113 bytes  File Size  =     118757 *\n",
      "*Baskets :        6 : Basket Size=     202240 bytes  Compression=   2.60     *\n",
      "*............................................................................*\n",
      "*Br    6 :ECalBarrelCollection.contributions_begin :                         *\n",
      "*         | UInt_t contributions_begin[ECalBarrelCollection_]                *\n",
      "*Entries :       10 : Total  Size=     309221 bytes  File Size  =     157420 *\n",
      "*Baskets :        6 : Basket Size=     202240 bytes  Compression=   1.96     *\n",
      "*............................................................................*\n",
      "*Br    7 :ECalBarrelCollection.contributions_end :                           *\n",
      "*         | UInt_t contributions_end[ECalBarrelCollection_]                  *\n",
      "*Entries :       10 : Total  Size=     309201 bytes  File Size  =     157388 *\n",
      "*Baskets :        6 : Basket Size=     202240 bytes  Compression=   1.96     *\n",
      "*............................................................................*\n",
      "*Br    8 :ECalBarrelCollection#0 : Int_t ECalBarrelCollection#0_             *\n",
      "*Entries :       10 : Total  Size=       2749 bytes  File Size  =        278 *\n",
      "*Baskets :        2 : Basket Size=      32000 bytes  Compression=   1.00     *\n",
      "*............................................................................*\n",
      "*Br    9 :ECalBarrelCollection#0.index : Int_t index[ECalBarrelCollection#0_]*\n",
      "*Entries :       10 : Total  Size=   13224329 bytes  File Size  =    5484539 *\n",
      "*Baskets :       10 : Basket Size=    1321830 bytes  Compression=   2.41     *\n",
      "*............................................................................*\n",
      "*Br   10 :ECalBarrelCollection#0.collectionID :                              *\n",
      "*         | Int_t collectionID[ECalBarrelCollection#0_]                      *\n",
      "*Entries :       10 : Total  Size=   13224427 bytes  File Size  =      65520 *\n",
      "*Baskets :       10 : Basket Size=    1321837 bytes  Compression= 201.83     *\n",
      "*............................................................................*\n"
     ]
    },
    {
     "name": "stderr",
     "output_type": "stream",
     "text": [
      "Warning in <TClass::Init>: no dictionary for class edm4hep::TrackerHitPlaneData is available\n",
      "Warning in <TClass::Init>: no dictionary for class edm4hep::Vector2f is available\n",
      "Warning in <TClass::Init>: no dictionary for class edm4hep::Quantity is available\n",
      "Warning in <TClass::Init>: no dictionary for class podio::version::Version is available\n"
     ]
    }
   ],
   "source": [
    "%%cpp\n",
    "events->Print(\"ECalBarrel*\")"
   ]
  },
  {
   "cell_type": "code",
   "execution_count": 5,
   "metadata": {},
   "outputs": [
    {
     "data": {
      "image/png": "[encoded data removed]",
      "text/plain": [
       "<IPython.core.display.Image object>"
      ]
     },
     "metadata": {},
     "output_type": "display_data"
    }
   ],
   "source": [
    "# %jsroot on\n",
    "c = rt.TCanvas()\n",
    "h = df.Histo1D(\"ECalBarrelCollection.energy\")\n",
    "h.SetTitle(\"ECal. Barrel Collection Energy\")\n",
    "h.GetXaxis().SetTitle(\"#bf{Energy,} #it{GeV}\")\n",
    "h.GetYaxis().SetTitle(\"#bf{Counts}\")\n",
    "h.Draw(\"\")\n",
    "c.SetLogy()\n",
    "c.Draw()"
   ]
  },
  {
   "cell_type": "markdown",
   "metadata": {},
   "source": [
    "How much of the total energy can you retain as a function of minimum energy threshold?"
   ]
  },
  {
   "cell_type": "code",
   "execution_count": 6,
   "metadata": {},
   "outputs": [],
   "source": [
    "@rt.Numba.Declare(['float', 'int'], \"float\")\n",
    "def pypow(x, y):\n",
    "    return x**y"
   ]
  },
  {
   "cell_type": "code",
   "execution_count": 7,
   "metadata": {},
   "outputs": [
    {
     "name": "stdout",
     "output_type": "stream",
     "text": [
      "2^3 = 8\n"
     ]
    }
   ],
   "source": [
    "%%cpp\n",
    "cout << \"2^3 = \" << Numba::pypow(2, 3) << endl;"
   ]
  },
  {
   "cell_type": "code",
   "execution_count": null,
   "metadata": {},
   "outputs": [],
   "source": []
  }
 ],
 "metadata": {
  "kernelspec": {
   "display_name": "Python 3 (ipykernel)",
   "language": "python",
   "name": "python3"
  },
  "language_info": {
   "codemirror_mode": {
    "name": "ipython",
    "version": 3
   },
   "file_extension": ".py",
   "mimetype": "text/x-python",
   "name": "python",
   "nbconvert_exporter": "python",
   "pygments_lexer": "ipython3",
   "version": "3.9.6"
  },
  "orig_nbformat": 4
 },
 "nbformat": 4,
 "nbformat_minor": 2
}
