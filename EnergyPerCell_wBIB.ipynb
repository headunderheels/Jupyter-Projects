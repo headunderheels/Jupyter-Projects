{
 "cells": [
  {
   "cell_type": "code",
   "execution_count": 1,
   "metadata": {},
   "outputs": [
    {
     "name": "stdout",
     "output_type": "stream",
     "text": [
      "Welcome to JupyROOT 6.24/06\n"
     ]
    }
   ],
   "source": [
    "import ROOT as rt\n",
    "import ctypes\n",
    "import numpy as np"
   ]
  },
  {
   "cell_type": "code",
   "execution_count": 2,
   "metadata": {},
   "outputs": [
    {
     "name": "stdout",
     "output_type": "stream",
     "text": [
      "TTree  May 25 17:41 2023 events          \"events data tree\"\n",
      "TTree  May 25 17:41 2023 events          \"events data tree\"\n",
      "TTree  May 25 17:41 2023 podio_metadata  \"metadata tree for podio I/O functionality\"\n"
     ]
    }
   ],
   "source": [
    "%%bash\n",
    "rootls -l /work/rhillman/Data/photonGun_1000_reco_990.root"
   ]
  },
  {
   "cell_type": "code",
   "execution_count": 3,
   "metadata": {},
   "outputs": [],
   "source": [
    "treename = \"events\"\n",
    "filename = \"/work/rhillman/Data/photonGun_1000_reco_990_wBIB.root\"\n",
    "df_wBIB = rt.RDataFrame(treename, filename)"
   ]
  },
  {
   "cell_type": "code",
   "execution_count": 7,
   "metadata": {},
   "outputs": [
    {
     "name": "stdout",
     "output_type": "stream",
     "text": [
      "******************************************************************************\n",
      "*Chain   :events    : /work/rhillman/Data/photonGun_1000_reco_990_wBIB.root  *\n",
      "******************************************************************************\n",
      "******************************************************************************\n",
      "*Tree    :events    : events data tree                                       *\n",
      "*Entries :       10 : Total =       589047189 bytes  File  Size =  179057430 *\n",
      "*        :          : Tree compression factor =   3.29                       *\n",
      "******************************************************************************\n",
      "*Br    0 :ECALBarrel : Int_t ECALBarrel_                                     *\n",
      "*Entries :       10 : Total  Size=       6756 bytes  File Size  =        515 *\n",
      "*Baskets :        5 : Basket Size=      32000 bytes  Compression=   1.00     *\n",
      "*............................................................................*\n",
      "*Br    1 :ECALBarrel.cellID : ULong_t cellID[ECALBarrel_]                    *\n",
      "*Entries :       10 : Total  Size=     437079 bytes  File Size  =     110802 *\n",
      "*Baskets :       10 : Basket Size=      43875 bytes  Compression=   3.94     *\n",
      "*............................................................................*\n",
      "*Br    2 :ECALBarrel.energy : Float_t energy[ECALBarrel_]                    *\n",
      "*Entries :       10 : Total  Size=     219351 bytes  File Size  =     195789 *\n",
      "*Baskets :       10 : Basket Size=      21987 bytes  Compression=   1.12     *\n",
      "*............................................................................*\n",
      "*Br    3 :ECALBarrel.energyError : Float_t energyError[ECALBarrel_]          *\n",
      "*Entries :       10 : Total  Size=     219421 bytes  File Size  =       2265 *\n",
      "*Baskets :       10 : Basket Size=      21992 bytes  Compression=  96.58     *\n",
      "*............................................................................*\n",
      "*Br    4 :ECALBarrel.time : Float_t time[ECALBarrel_]                        *\n",
      "*Entries :       10 : Total  Size=     219323 bytes  File Size  =     192704 *\n",
      "*Baskets :       10 : Basket Size=      21985 bytes  Compression=   1.13     *\n",
      "*............................................................................*\n",
      "*Br    5 :ECALBarrel.position.x : Float_t x[ECALBarrel_]                     *\n",
      "*Entries :       10 : Total  Size=     219389 bytes  File Size  =     155125 *\n",
      "*Baskets :       10 : Basket Size=      21991 bytes  Compression=   1.41     *\n",
      "*............................................................................*\n",
      "*Br    6 :ECALBarrel.position.y : Float_t y[ECALBarrel_]                     *\n",
      "*Entries :       10 : Total  Size=     219389 bytes  File Size  =     151130 *\n",
      "*Baskets :       10 : Basket Size=      21991 bytes  Compression=   1.45     *\n",
      "*............................................................................*\n",
      "*Br    7 :ECALBarrel.position.z : Float_t z[ECALBarrel_]                     *\n",
      "*Entries :       10 : Total  Size=     219389 bytes  File Size  =     115168 *\n",
      "*Baskets :       10 : Basket Size=      21991 bytes  Compression=   1.90     *\n",
      "*............................................................................*\n",
      "*Br    8 :ECALBarrel.type : Int_t type[ECALBarrel_]                          *\n",
      "*Entries :       10 : Total  Size=     219323 bytes  File Size  =      76674 *\n",
      "*Baskets :       10 : Basket Size=      21985 bytes  Compression=   2.85     *\n",
      "*............................................................................*\n",
      "*Br    9 :ECALEndcap : Int_t ECALEndcap_                                     *\n",
      "*Entries :       10 : Total  Size=       6756 bytes  File Size  =        515 *\n",
      "*Baskets :        5 : Basket Size=      32000 bytes  Compression=   1.00     *\n",
      "*............................................................................*\n",
      "*Br   10 :ECALEndcap.cellID : ULong_t cellID[ECALEndcap_]                    *\n",
      "*Entries :       10 : Total  Size=     330023 bytes  File Size  =      63010 *\n",
      "*Baskets :       10 : Basket Size=      32939 bytes  Compression=   5.23     *\n",
      "*............................................................................*\n",
      "*Br   11 :ECALEndcap.energy : Float_t energy[ECALEndcap_]                    *\n",
      "*Entries :       10 : Total  Size=     165823 bytes  File Size  =     145730 *\n",
      "*Baskets :       10 : Basket Size=      16519 bytes  Compression=   1.13     *\n",
      "*............................................................................*\n",
      "*Br   12 :ECALEndcap.energyError : Float_t energyError[ECALEndcap_]          *\n",
      "*Entries :       10 : Total  Size=     165893 bytes  File Size  =       2030 *\n",
      "*Baskets :       10 : Basket Size=      16524 bytes  Compression=  81.39     *\n",
      "*............................................................................*\n",
      "*Br   13 :ECALEndcap.time : Float_t time[ECALEndcap_]                        *\n",
      "*Entries :       10 : Total  Size=     165795 bytes  File Size  =     144890 *\n",
      "*Baskets :       10 : Basket Size=      16517 bytes  Compression=   1.14     *\n",
      "*............................................................................*\n",
      "*Br   14 :ECALEndcap.position.x : Float_t x[ECALEndcap_]                     *\n",
      "*Entries :       10 : Total  Size=     165861 bytes  File Size  =     152310 *\n",
      "*Baskets :       10 : Basket Size=      16523 bytes  Compression=   1.08     *\n",
      "*............................................................................*\n",
      "*Br   15 :ECALEndcap.position.y : Float_t y[ECALEndcap_]                     *\n",
      "*Entries :       10 : Total  Size=     165861 bytes  File Size  =     152060 *\n",
      "*Baskets :       10 : Basket Size=      16523 bytes  Compression=   1.09     *\n",
      "*............................................................................*\n",
      "*Br   16 :ECALEndcap.position.z : Float_t z[ECALEndcap_]                     *\n",
      "*Entries :       10 : Total  Size=     165861 bytes  File Size  =      54320 *\n",
      "*Baskets :       10 : Basket Size=      16523 bytes  Compression=   3.04     *\n",
      "*............................................................................*\n",
      "*Br   17 :ECALEndcap.type : Int_t type[ECALEndcap_]                          *\n",
      "*Entries :       10 : Total  Size=     165795 bytes  File Size  =      55360 *\n",
      "*Baskets :       10 : Basket Size=      16517 bytes  Compression=   2.98     *\n",
      "*............................................................................*\n"
     ]
    }
   ],
   "source": [
    "%%cpp\n",
    "events->Print(\"ECAL*\")"
   ]
  },
  {
   "cell_type": "code",
   "execution_count": null,
   "metadata": {},
   "outputs": [],
   "source": []
  }
 ],
 "metadata": {
  "kernelspec": {
   "display_name": "Python 3",
   "language": "python",
   "name": "python3"
  },
  "language_info": {
   "codemirror_mode": {
    "name": "ipython",
    "version": 3
   },
   "file_extension": ".py",
   "mimetype": "text/x-python",
   "name": "python",
   "nbconvert_exporter": "python",
   "pygments_lexer": "ipython3",
   "version": "3.9.6"
  },
  "orig_nbformat": 4
 },
 "nbformat": 4,
 "nbformat_minor": 2
}
