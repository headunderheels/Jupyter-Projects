{
 "cells": [
  {
   "cell_type": "markdown",
   "metadata": {},
   "source": [
    "# Visualizing Simulated Calorimeter Hits"
   ]
  },
  {
   "cell_type": "markdown",
   "metadata": {},
   "source": [
    "The following notebook contains examples of 1, 2, and 3-dimensional hisograms plotted using RDataFrame within the pyroot framework.\n",
    "\n",
    "As always, we begin with imports..."
   ]
  },
  {
   "cell_type": "code",
   "execution_count": 1,
   "metadata": {},
   "outputs": [
    {
     "name": "stdout",
     "output_type": "stream",
     "text": [
      "Welcome to JupyROOT 6.24/06\n"
     ]
    }
   ],
   "source": [
    "import ROOT\n",
    "from ROOT import Math\n",
    "from pprint import pprint   # For formatted printing."
   ]
  },
  {
   "cell_type": "markdown",
   "metadata": {},
   "source": [
    "---\n",
    "## Reading Data\n",
    "\n",
    "Using magic commands, we can execute bash commands. Here we find the available trees in the ROOT data file using a BASH command. The `-l` flag tells ROOT to output additional information. We want to identify a TTree."
   ]
  },
  {
   "cell_type": "code",
   "execution_count": 2,
   "metadata": {},
   "outputs": [
    {
     "name": "stdout",
     "output_type": "stream",
     "text": [
      "TTree  May 25 17:41 2023 events          \"events data tree\"\n",
      "TTree  May 25 17:41 2023 events          \"events data tree\"\n",
      "TTree  May 25 17:41 2023 podio_metadata  \"metadata tree for podio I/O functionality\"\n"
     ]
    }
   ],
   "source": [
    "%%bash\n",
    "rootls -l /work/rhillman/Data/photonGun_1000_reco_990.root"
   ]
  },
  {
   "cell_type": "markdown",
   "metadata": {},
   "source": [
    "In this file, there is a TTree available called \"events,\" which we will import into a dataframe for ready manipulation and plotting. There are two of them, but they are different versions of the same thing."
   ]
  },
  {
   "cell_type": "code",
   "execution_count": 3,
   "metadata": {},
   "outputs": [],
   "source": [
    "treename = \"events\"\n",
    "filename = \"/work/rhillman/Data/photonGun_1000_reco_990.root\"\n",
    "df = ROOT.RDataFrame(treename, filename)"
   ]
  },
  {
   "cell_type": "markdown",
   "metadata": {},
   "source": [
    "We have now established the RDataFrame object, and can use corresponding methods for reading, filtering, and plotting. \n",
    "\n",
    "Probably the best method for reading branches here will be to call the `Print()` method on the tree called \"events\", as shown below. We can pass options \"all\", \"toponly\", or \"clusters\", or we can use wildcarding to search for relevant branches, as shown below. \n",
    "\n",
    "See the `Print()` documenation including available arguments, [here](https://root.cern/doc/v628/classTTree.html#a3d27bde3ec51f3985ea6e0bbfe15863c)."
   ]
  },
  {
   "cell_type": "code",
   "execution_count": 4,
   "metadata": {},
   "outputs": [
    {
     "name": "stdout",
     "output_type": "stream",
     "text": [
      "******************************************************************************\n",
      "*Chain   :events    : /work/rhillman/Data/photonGun_1000_reco_990.root       *\n",
      "******************************************************************************\n",
      "******************************************************************************\n",
      "*Tree    :events    : events data tree                                       *\n",
      "*Entries :       10 : Total =       138512552 bytes  File  Size =   62843895 *\n",
      "*        :          : Tree compression factor =   2.20                       *\n",
      "******************************************************************************\n",
      "*Br    0 :ECalEndcapCollection : Int_t ECalEndcapCollection_                 *\n",
      "*Entries :       10 : Total  Size=       6193 bytes  File Size  =        258 *\n",
      "*Baskets :        2 : Basket Size=      32000 bytes  Compression=   1.06     *\n",
      "*............................................................................*\n",
      "*Br    1 :ECalEndcapCollection.cellID : ULong_t cellID[ECalEndcapCollection_]*\n",
      "*Entries :       10 : Total  Size=        947 bytes  File Size  =        262 *\n",
      "*Baskets :        2 : Basket Size=       2487 bytes  Compression=   1.01     *\n",
      "*............................................................................*\n",
      "*Br    2 :ECalEndcapCollection.energy : Float_t energy[ECalEndcapCollection_]*\n",
      "*Entries :       10 : Total  Size=        939 bytes  File Size  =        254 *\n",
      "*Baskets :        2 : Basket Size=       2487 bytes  Compression=   1.01     *\n",
      "*............................................................................*\n",
      "*Br    3 :ECalEndcapCollection.position.x : Float_t x[ECalEndcapCollection_] *\n",
      "*Entries :       10 : Total  Size=        945 bytes  File Size  =        262 *\n",
      "*Baskets :        2 : Basket Size=       2487 bytes  Compression=   1.01     *\n",
      "*............................................................................*\n",
      "*Br    4 :ECalEndcapCollection.position.y : Float_t y[ECalEndcapCollection_] *\n",
      "*Entries :       10 : Total  Size=        945 bytes  File Size  =        262 *\n",
      "*Baskets :        2 : Basket Size=       2487 bytes  Compression=   1.01     *\n",
      "*............................................................................*\n",
      "*Br    5 :ECalEndcapCollection.position.z : Float_t z[ECalEndcapCollection_] *\n",
      "*Entries :       10 : Total  Size=        945 bytes  File Size  =        262 *\n",
      "*Baskets :        2 : Basket Size=       2487 bytes  Compression=   1.01     *\n",
      "*............................................................................*\n",
      "*Br    6 :ECalEndcapCollection.contributions_begin :                         *\n",
      "*         | UInt_t contributions_begin[ECalEndcapCollection_]                *\n",
      "*Entries :       10 : Total  Size=       1017 bytes  File Size  =        276 *\n",
      "*Baskets :        2 : Basket Size=       2487 bytes  Compression=   1.02     *\n",
      "*............................................................................*\n",
      "*Br    7 :ECalEndcapCollection.contributions_end :                           *\n",
      "*         | UInt_t contributions_end[ECalEndcapCollection_]                  *\n",
      "*Entries :       10 : Total  Size=       1005 bytes  File Size  =        276 *\n",
      "*Baskets :        2 : Basket Size=       2487 bytes  Compression=   1.01     *\n",
      "*............................................................................*\n",
      "*Br    8 :ECalEndcapCollection#0 : Int_t ECalEndcapCollection#0_             *\n",
      "*Entries :       10 : Total  Size=       2709 bytes  File Size  =        262 *\n",
      "*Baskets :        2 : Basket Size=      32000 bytes  Compression=   1.06     *\n",
      "*............................................................................*\n",
      "*Br    9 :ECalEndcapCollection#0.index : Int_t index[ECalEndcapCollection#0_]*\n",
      "*Entries :       10 : Total  Size=        953 bytes  File Size  =        260 *\n",
      "*Baskets :        2 : Basket Size=       2487 bytes  Compression=   1.01     *\n",
      "*............................................................................*\n",
      "*Br   10 :ECalEndcapCollection#0.collectionID :                              *\n",
      "*         | Int_t collectionID[ECalEndcapCollection#0_]                      *\n",
      "*Entries :       10 : Total  Size=        995 bytes  File Size  =        272 *\n",
      "*Baskets :        2 : Basket Size=       2487 bytes  Compression=   1.01     *\n",
      "*............................................................................*\n",
      "*Br   11 :ECalBarrelCollection : Int_t ECalBarrelCollection_                 *\n",
      "*Entries :       10 : Total  Size=       6193 bytes  File Size  =        274 *\n",
      "*Baskets :        2 : Basket Size=      32000 bytes  Compression=   1.00     *\n",
      "*............................................................................*\n",
      "*Br   12 :ECalBarrelCollection.cellID : ULong_t cellID[ECalBarrelCollection_]*\n",
      "*Entries :       10 : Total  Size=     616835 bytes  File Size  =     285238 *\n",
      "*Baskets :        6 : Basket Size=     402944 bytes  Compression=   2.16     *\n",
      "*............................................................................*\n",
      "*Br   13 :ECalBarrelCollection.energy : Float_t energy[ECalBarrelCollection_]*\n",
      "*Entries :       10 : Total  Size=     309091 bytes  File Size  =     283397 *\n",
      "*Baskets :        6 : Basket Size=     202240 bytes  Compression=   1.09     *\n",
      "*............................................................................*\n",
      "*Br   14 :ECalBarrelCollection.position.x : Float_t x[ECalBarrelCollection_] *\n",
      "*Entries :       10 : Total  Size=     309113 bytes  File Size  =     116446 *\n",
      "*Baskets :        6 : Basket Size=     202240 bytes  Compression=   2.65     *\n",
      "*............................................................................*\n",
      "*Br   15 :ECalBarrelCollection.position.y : Float_t y[ECalBarrelCollection_] *\n",
      "*Entries :       10 : Total  Size=     309113 bytes  File Size  =      93075 *\n",
      "*Baskets :        6 : Basket Size=     202240 bytes  Compression=   3.31     *\n",
      "*............................................................................*\n",
      "*Br   16 :ECalBarrelCollection.position.z : Float_t z[ECalBarrelCollection_] *\n",
      "*Entries :       10 : Total  Size=     309113 bytes  File Size  =     118757 *\n",
      "*Baskets :        6 : Basket Size=     202240 bytes  Compression=   2.60     *\n",
      "*............................................................................*\n",
      "*Br   17 :ECalBarrelCollection.contributions_begin :                         *\n",
      "*         | UInt_t contributions_begin[ECalBarrelCollection_]                *\n",
      "*Entries :       10 : Total  Size=     309221 bytes  File Size  =     157420 *\n",
      "*Baskets :        6 : Basket Size=     202240 bytes  Compression=   1.96     *\n",
      "*............................................................................*\n",
      "*Br   18 :ECalBarrelCollection.contributions_end :                           *\n",
      "*         | UInt_t contributions_end[ECalBarrelCollection_]                  *\n",
      "*Entries :       10 : Total  Size=     309201 bytes  File Size  =     157388 *\n",
      "*Baskets :        6 : Basket Size=     202240 bytes  Compression=   1.96     *\n",
      "*............................................................................*\n",
      "*Br   19 :ECalBarrelCollection#0 : Int_t ECalBarrelCollection#0_             *\n",
      "*Entries :       10 : Total  Size=       2749 bytes  File Size  =        278 *\n",
      "*Baskets :        2 : Basket Size=      32000 bytes  Compression=   1.00     *\n",
      "*............................................................................*\n",
      "*Br   20 :ECalBarrelCollection#0.index : Int_t index[ECalBarrelCollection#0_]*\n",
      "*Entries :       10 : Total  Size=   13224329 bytes  File Size  =    5484539 *\n",
      "*Baskets :       10 : Basket Size=    1321830 bytes  Compression=   2.41     *\n",
      "*............................................................................*\n",
      "*Br   21 :ECalBarrelCollection#0.collectionID :                              *\n",
      "*         | Int_t collectionID[ECalBarrelCollection#0_]                      *\n",
      "*Entries :       10 : Total  Size=   13224427 bytes  File Size  =      65520 *\n",
      "*Baskets :       10 : Basket Size=    1321837 bytes  Compression= 201.83     *\n",
      "*............................................................................*\n"
     ]
    },
    {
     "name": "stderr",
     "output_type": "stream",
     "text": [
      "Warning in <TClass::Init>: no dictionary for class edm4hep::TrackerHitPlaneData is available\n",
      "Warning in <TClass::Init>: no dictionary for class edm4hep::Vector2f is available\n",
      "Warning in <TClass::Init>: no dictionary for class edm4hep::Quantity is available\n",
      "Warning in <TClass::Init>: no dictionary for class podio::version::Version is available\n"
     ]
    }
   ],
   "source": [
    "%%cpp\n",
    "events->Print(\"ECal*\")"
   ]
  },
  {
   "cell_type": "markdown",
   "metadata": {},
   "source": [
    "Alternatively, we can call the `GetColumnNames()` method in Python to figure out the available column names. A drawback of this method is that it does not print the additional information that is included by the `Print()` method, and the output is arguably not as readable. However, it is probably better to use for scripts.\n",
    "\n",
    "The `Scan()` method allows us to display the contents of branches in a table. It can also be useful.\n",
    "\n",
    "For a more comprehensive description of how to use it, see the [documentation](https://root.cern/doc/v628/classTTree.html#af8a886acab51b16d8ddbf65667c035e4)."
   ]
  },
  {
   "cell_type": "code",
   "execution_count": 5,
   "metadata": {},
   "outputs": [],
   "source": [
    "# pprint(f\"{df.GetColumnNames()}\")"
   ]
  },
  {
   "cell_type": "code",
   "execution_count": 6,
   "metadata": {},
   "outputs": [],
   "source": [
    "# %%cpp\n",
    "# events->Scan(\"ECalBarrelCollection.position.y\")"
   ]
  },
  {
   "cell_type": "markdown",
   "metadata": {},
   "source": [
    "Using info from these searches, we will assign new aliases for our branches."
   ]
  },
  {
   "cell_type": "code",
   "execution_count": 7,
   "metadata": {},
   "outputs": [],
   "source": [
    "# Barrel Collections\n",
    "df = df.Alias(\"barrel_x\", \"ECALBarrel.position.x\")\\\n",
    "    .Alias(\"barrel_y\", \"ECALBarrel.position.y\")\\\n",
    "    .Alias(\"barrel_z\", \"ECALBarrel.position.z\")\\\n",
    "    .Alias(\"barrel_t\", \"ECALBarrel.time\")\n",
    "\n",
    "# Endcap Collections\n",
    "df = df.Alias(\"endcap_x\", \"ECALEndcap.position.x\")\\\n",
    "    .Alias(\"endcap_y\", \"ECALEndcap.position.y\")\\\n",
    "    .Alias(\"endcap_z\", \"ECALEndcap.position.z\")\\\n",
    "    .Alias(\"endcap_t\", \"ECALEndcap.time\")\n"
   ]
  },
  {
   "cell_type": "code",
   "execution_count": 8,
   "metadata": {},
   "outputs": [],
   "source": [
    "# %%cpp\n",
    "\n",
    "# auto df = df.Define(\"r\", radius, {\"barrel_x\", \"barrel_y\"})"
   ]
  },
  {
   "cell_type": "markdown",
   "metadata": {},
   "source": [
    "---\n",
    "## Manipulating the Dataframe\n",
    "\n",
    "Here, let's define a new column to represent the radius, using [df.Define().](https://root.cern/doc/v628/classROOT_1_1RDF_1_1RInterface.html#a4698601205a55ac49279150d56fc904f)"
   ]
  },
  {
   "cell_type": "code",
   "execution_count": 9,
   "metadata": {},
   "outputs": [],
   "source": [
    "df = df.Define(\"r\", \"ROOT::Math::XYZTVector('x', 'y', 'z', 't').mag()\")"
   ]
  },
  {
   "cell_type": "markdown",
   "metadata": {},
   "source": [
    "---\n",
    "## Visualization"
   ]
  },
  {
   "cell_type": "markdown",
   "metadata": {},
   "source": [
    "### Aesthetics\n",
    "\n",
    "To add some flair to the plot, we can define some custom colors. Here are some available colors..."
   ]
  },
  {
   "cell_type": "code",
   "execution_count": 10,
   "metadata": {},
   "outputs": [
    {
     "data": {
      "image/png": "[encoded data removed]",
      "text/plain": [
       "<IPython.core.display.Image object>"
      ]
     },
     "metadata": {},
     "output_type": "display_data"
    }
   ],
   "source": [
    "c = ROOT.TCanvas(\"c\", \"Fill Area Colors\", 0, 0, 500, 200)\n",
    "c.DrawColorTable()\n",
    "c.Draw()"
   ]
  },
  {
   "cell_type": "markdown",
   "metadata": {},
   "source": [
    "We want to define new TColors. If we want to know more about how a given object or method works, we can do the following:"
   ]
  },
  {
   "cell_type": "code",
   "execution_count": 11,
   "metadata": {},
   "outputs": [
    {
     "name": "stdout",
     "output_type": "stream",
     "text": [
      "\u001b[0;31mDocstring:\u001b[0m      cppyy object proxy (internal)\n",
      "\u001b[0;31mInit docstring:\u001b[0m\n",
      "TColor::TColor()\n",
      "TColor::TColor(int color, float r, float g, float b, const char* name = \"\", float a = 1)\n",
      "TColor::TColor(float r, float g, float b, float a = 1)\n",
      "TColor::TColor(const TColor& color)\n",
      "\u001b[0;31mType:\u001b[0m           TColor_meta\n",
      "\u001b[0;31mSubclasses:\u001b[0m     \n"
     ]
    }
   ],
   "source": [
    "# How does this object work?\n",
    "?ROOT.TColor"
   ]
  },
  {
   "cell_type": "markdown",
   "metadata": {},
   "source": [
    "We will proceed by defining our own colors and assigning them to a new color index."
   ]
  },
  {
   "cell_type": "code",
   "execution_count": 12,
   "metadata": {},
   "outputs": [],
   "source": [
    "# GetFreeColorIndex() finds an available color index for our color.\n",
    "icc = index_canvas_color = ROOT.TColor.GetFreeColorIndex()\n",
    "canvascolor = ROOT.TColor(\n",
    "    icc,\n",
    "    1, 1, 1,\n",
    "    a=1,\n",
    "    name=\"canvascolor\"\n",
    ")"
   ]
  },
  {
   "cell_type": "markdown",
   "metadata": {},
   "source": [
    "### Plotting 1-D Histograms"
   ]
  },
  {
   "cell_type": "markdown",
   "metadata": {},
   "source": [
    "Now, we can create a canvas and fill it with histograms."
   ]
  },
  {
   "cell_type": "code",
   "execution_count": 13,
   "metadata": {},
   "outputs": [
    {
     "data": {
      "image/png": "[encoded data removed]",
      "text/plain": [
       "<IPython.core.display.Image object>"
      ]
     },
     "metadata": {},
     "output_type": "display_data"
    }
   ],
   "source": [
    "# %jsroot on\n",
    "\n",
    "c = ROOT.TCanvas(\"c1\", \"1-D Histograms\", 900, 900)\n",
    "c.Divide(2, 2)\n",
    "\n",
    "h1 = df.Histo1D(\"barrel_x\")\n",
    "h2 = df.Histo1D(\"barrel_y\")\n",
    "h3 = df.Histo1D(\"barrel_z\")\n",
    "h4 = df.Histo1D(\"barrel_t\")\n",
    "\n",
    "c.cd(1)\n",
    "h1.Draw()\n",
    "c.cd(2)\n",
    "h2.Draw()\n",
    "c.cd(3)\n",
    "h3.Draw()\n",
    "c.cd(4)\n",
    "h4.Draw()\n",
    "\n",
    "c.Draw()\n"
   ]
  },
  {
   "cell_type": "markdown",
   "metadata": {},
   "source": [
    "### 2-D Plots\n",
    "\n",
    "Now, we will visualize the plots differently. We'll use the Histo2D class to plot the data as cross-sections. First, we'll customize the plots."
   ]
  },
  {
   "cell_type": "code",
   "execution_count": 14,
   "metadata": {},
   "outputs": [],
   "source": [
    "ROOT.gStyle.SetOptTitle(1)\n",
    "ROOT.gStyle.SetOptStat(0)\n",
    "ROOT.gStyle.SetTitleColor(0)\n",
    "\n",
    "# Set axis, label, and title attributes\n",
    "ROOT.gStyle.SetAxisColor(0, \"XYZ\")\n",
    "ROOT.gStyle.SetLabelColor(0, \"XYZ\")\n",
    "ROOT.gStyle.SetLabelSize(0.02, \"XYZ\")\n",
    "\n",
    "ROOT.gStyle.SetOptLogz()        # Useful for forcing more visible texture out of high-energy events/getting a better feel for background."
   ]
  },
  {
   "cell_type": "markdown",
   "metadata": {},
   "source": [
    "Now, we'll handle the plotting."
   ]
  },
  {
   "cell_type": "code",
   "execution_count": 15,
   "metadata": {},
   "outputs": [
    {
     "data": {
      "image/png": "[encoded data removed]",
      "text/plain": [
       "<IPython.core.display.Image object>"
      ]
     },
     "metadata": {},
     "output_type": "display_data"
    }
   ],
   "source": [
    "c = ROOT.TCanvas(\"c2\", \"2-D Histograms\", 1200, 400)\n",
    "c.Divide(3, 1)\n",
    "c.SetFillColorAlpha(1, 1)\n",
    "c.SetBorderMode(0)\n",
    "c.SetBorderSize(2)\n",
    "\n",
    "# Set the color palette\n",
    "ROOT.gStyle.SetPalette(53)\n",
    "\n",
    "# Define the number of bins and the ranges for the x and y axes\n",
    "xbins = ybins = tbins = 100\n",
    "xmax = ymax = tmax = 2500\n",
    "xmin = ymin = tmin = -xmax\n",
    "\n",
    "\n",
    "c.cd(1)\n",
    "c.GetPad(1).SetFillColor(1)\n",
    "h1 = df.Histo2D((\"h1\", \"Transverse Cross-section;x;y\",\n",
    "                 xbins, xmin, xmax,\n",
    "                 ybins, ymin, ymax),\n",
    "                \"barrel_x\", \"barrel_y\")\n",
    "h1.Draw(\"CONT4 Z\")\n",
    "\n",
    "c.cd(2)\n",
    "c.GetPad(2).SetFillColor(1)\n",
    "h2 = df.Histo2D((\"h2\", \"Longitudinal Cross-section;x;z\",\n",
    "                 xbins, xmin, xmax, \n",
    "                 ybins, ymin, ymax), \n",
    "                \"barrel_x\", \"barrel_z\")\n",
    "h2.Draw(\"CONT4 Z\")\n",
    "\n",
    "c.cd(3)\n",
    "c.GetPad(3).SetFillColor(1)\n",
    "h3 = df.Histo2D((\"h3\", \"idk;x;t\",\n",
    "                 xbins, xmin, xmax,\n",
    "                 tbins, tmin, tmax),\n",
    "                \"barrel_x\", \"ECALBarrel.time\")\n",
    "h3.Draw(\"CONT4 Z\")\n",
    "\n",
    "c.Draw()\n"
   ]
  },
  {
   "cell_type": "markdown",
   "metadata": {},
   "source": [
    "### 3-D Plotting\n",
    "\n",
    "???"
   ]
  },
  {
   "cell_type": "code",
   "execution_count": 16,
   "metadata": {},
   "outputs": [
    {
     "data": {
      "image/png": "[encoded data removed]",
      "text/plain": [
       "<IPython.core.display.Image object>"
      ]
     },
     "metadata": {},
     "output_type": "display_data"
    }
   ],
   "source": [
    "ROOT.gStyle.SetOptLogz(0)\n",
    "\n",
    "c = ROOT.TCanvas(\"c3\", \"3-D Histogram\", 600, 600)\n",
    "c.SetFillColor(1)\n",
    "c.Draw()\n",
    "c.cd(1)\n",
    "\n",
    "# Set axis, label, and title attributes\n",
    "ROOT.gStyle.SetAxisColor(0, \"XYZ\")\n",
    "ROOT.gStyle.SetLabelColor(0, \"XYZ\")\n",
    "ROOT.gStyle.SetLabelSize(0.02, \"XYZ\")\n",
    "ROOT.gStyle.SetTitleColor(0, \"XYZ\")\n",
    "\n",
    "xbins = ybins = zbins = 50\n",
    "xmin = ymin = zmin = -100\n",
    "xmax = ymax = zmax = 3000\n",
    "\n",
    "h = df.Histo3D((\"3D Cross-section\", \";X;Y;Z\", xbins, xmin, xmax,\n",
    "                ybins, ymin, ymax, zbins, ymin, ymax), \"barrel_x\", \"barrel_y\", \"barrel_z\")\n",
    "\n",
    "h.Draw(\"BOX3\")\n",
    "\n",
    "c.Draw()\n"
   ]
  },
  {
   "cell_type": "code",
   "execution_count": null,
   "metadata": {},
   "outputs": [],
   "source": []
  }
 ],
 "metadata": {
  "kernelspec": {
   "display_name": "Python 3",
   "language": "python",
   "name": "python3"
  },
  "language_info": {
   "codemirror_mode": {
    "name": "ipython",
    "version": 3
   },
   "file_extension": ".py",
   "mimetype": "text/x-python",
   "name": "python",
   "nbconvert_exporter": "python",
   "pygments_lexer": "ipython3",
   "version": "3.9.6"
  },
  "orig_nbformat": 4
 },
 "nbformat": 4,
 "nbformat_minor": 2
}
