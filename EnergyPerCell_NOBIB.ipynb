{
 "cells": [
  {
   "cell_type": "markdown",
   "metadata": {},
   "source": [
    "# Energy Deposits per Detector Cell\n",
    "---\n",
    "\n",
    "The goal of this notebook is to help answer the following question: *How often in a given cell does BIB get in the way of reconstructing the particles we want to look at?*\n",
    "\n",
    "To do so, we'll try to plot energy deposits per detector cell."
   ]
  },
  {
   "cell_type": "code",
   "execution_count": 1,
   "metadata": {},
   "outputs": [
    {
     "name": "stdout",
     "output_type": "stream",
     "text": [
      "Welcome to JupyROOT 6.24/06\n"
     ]
    }
   ],
   "source": [
    "import ROOT as rt\n",
    "import ctypes\n",
    "import numpy as np\n",
    "\n",
    "# rt.EnableImplicitMT(1)  # Multithreading\n",
    "# rt.gEnv.Print()         # View ROOT properties"
   ]
  },
  {
   "cell_type": "code",
   "execution_count": 2,
   "metadata": {},
   "outputs": [],
   "source": [
    "# %%bash\n",
    "# rootls -l /work/rhillman/Data/photonGun_1000_reco_990.root"
   ]
  },
  {
   "cell_type": "code",
   "execution_count": 3,
   "metadata": {},
   "outputs": [],
   "source": [
    "treename = \"events\"\n",
    "filename = \"/work/rhillman/Data/photonGun_1000_reco_990.root\"\n",
    "df = rt.RDataFrame(treename, filename)"
   ]
  },
  {
   "cell_type": "code",
   "execution_count": 4,
   "metadata": {},
   "outputs": [
    {
     "name": "stdout",
     "output_type": "stream",
     "text": [
      "******************************************************************************\n",
      "*Chain   :events    : /work/rhillman/Data/photonGun_1000_reco_990.root       *\n",
      "******************************************************************************\n",
      "******************************************************************************\n",
      "*Tree    :events    : events data tree                                       *\n",
      "*Entries :       10 : Total =       138512552 bytes  File  Size =   62843895 *\n",
      "*        :          : Tree compression factor =   2.20                       *\n",
      "******************************************************************************\n",
      "*Br    0 :ECalBarrelCollection : Int_t ECalBarrelCollection_                 *\n",
      "*Entries :       10 : Total  Size=       6193 bytes  File Size  =        274 *\n",
      "*Baskets :        2 : Basket Size=      32000 bytes  Compression=   1.00     *\n",
      "*............................................................................*\n",
      "*Br    1 :ECalBarrelCollection.cellID : ULong_t cellID[ECalBarrelCollection_]*\n",
      "*Entries :       10 : Total  Size=     616835 bytes  File Size  =     285238 *\n",
      "*Baskets :        6 : Basket Size=     402944 bytes  Compression=   2.16     *\n",
      "*............................................................................*\n",
      "*Br    2 :ECalBarrelCollection.energy : Float_t energy[ECalBarrelCollection_]*\n",
      "*Entries :       10 : Total  Size=     309091 bytes  File Size  =     283397 *\n",
      "*Baskets :        6 : Basket Size=     202240 bytes  Compression=   1.09     *\n",
      "*............................................................................*\n",
      "*Br    3 :ECalBarrelCollection.position.x : Float_t x[ECalBarrelCollection_] *\n",
      "*Entries :       10 : Total  Size=     309113 bytes  File Size  =     116446 *\n",
      "*Baskets :        6 : Basket Size=     202240 bytes  Compression=   2.65     *\n",
      "*............................................................................*\n",
      "*Br    4 :ECalBarrelCollection.position.y : Float_t y[ECalBarrelCollection_] *\n",
      "*Entries :       10 : Total  Size=     309113 bytes  File Size  =      93075 *\n",
      "*Baskets :        6 : Basket Size=     202240 bytes  Compression=   3.31     *\n",
      "*............................................................................*\n",
      "*Br    5 :ECalBarrelCollection.position.z : Float_t z[ECalBarrelCollection_] *\n",
      "*Entries :       10 : Total  Size=     309113 bytes  File Size  =     118757 *\n",
      "*Baskets :        6 : Basket Size=     202240 bytes  Compression=   2.60     *\n",
      "*............................................................................*\n",
      "*Br    6 :ECalBarrelCollection.contributions_begin :                         *\n",
      "*         | UInt_t contributions_begin[ECalBarrelCollection_]                *\n",
      "*Entries :       10 : Total  Size=     309221 bytes  File Size  =     157420 *\n",
      "*Baskets :        6 : Basket Size=     202240 bytes  Compression=   1.96     *\n",
      "*............................................................................*\n",
      "*Br    7 :ECalBarrelCollection.contributions_end :                           *\n",
      "*         | UInt_t contributions_end[ECalBarrelCollection_]                  *\n",
      "*Entries :       10 : Total  Size=     309201 bytes  File Size  =     157388 *\n",
      "*Baskets :        6 : Basket Size=     202240 bytes  Compression=   1.96     *\n",
      "*............................................................................*\n",
      "*Br    8 :ECalBarrelCollection#0 : Int_t ECalBarrelCollection#0_             *\n",
      "*Entries :       10 : Total  Size=       2749 bytes  File Size  =        278 *\n",
      "*Baskets :        2 : Basket Size=      32000 bytes  Compression=   1.00     *\n",
      "*............................................................................*\n",
      "*Br    9 :ECalBarrelCollection#0.index : Int_t index[ECalBarrelCollection#0_]*\n",
      "*Entries :       10 : Total  Size=   13224329 bytes  File Size  =    5484539 *\n",
      "*Baskets :       10 : Basket Size=    1321830 bytes  Compression=   2.41     *\n",
      "*............................................................................*\n",
      "*Br   10 :ECalBarrelCollection#0.collectionID :                              *\n",
      "*         | Int_t collectionID[ECalBarrelCollection#0_]                      *\n",
      "*Entries :       10 : Total  Size=   13224427 bytes  File Size  =      65520 *\n",
      "*Baskets :       10 : Basket Size=    1321837 bytes  Compression= 201.83     *\n",
      "*............................................................................*\n"
     ]
    },
    {
     "name": "stderr",
     "output_type": "stream",
     "text": [
      "Warning in <TClass::Init>: no dictionary for class edm4hep::TrackerHitPlaneData is available\n",
      "Warning in <TClass::Init>: no dictionary for class edm4hep::Vector2f is available\n",
      "Warning in <TClass::Init>: no dictionary for class edm4hep::Quantity is available\n",
      "Warning in <TClass::Init>: no dictionary for class podio::version::Version is available\n"
     ]
    }
   ],
   "source": [
    "%%cpp\n",
    "events->Print(\"ECalBarrel*\")"
   ]
  },
  {
   "cell_type": "code",
   "execution_count": 5,
   "metadata": {},
   "outputs": [
    {
     "data": {
      "image/png": "[encoded data removed]",
      "text/plain": [
       "<IPython.core.display.Image object>"
      ]
     },
     "metadata": {},
     "output_type": "display_data"
    }
   ],
   "source": [
    "# %jsroot on\n",
    "\n",
    "nbins = 10000\n",
    "c = rt.TCanvas()\n",
    "h = df.Histo1D((\"h1\", \"ECal. Barrel Collection Energy;#bf{Energy,} #it{GeV};#bf{Counts}\", nbins, 0, 1), \"ECalBarrelCollection.energy\")\n",
    "h.Draw(\"\")\n",
    "c.SetLogy()\n",
    "c.SetLogx()\n",
    "c.Draw()"
   ]
  },
  {
   "cell_type": "code",
   "execution_count": 6,
   "metadata": {},
   "outputs": [
    {
     "name": "stdout",
     "output_type": "stream",
     "text": [
      "5e-05\n"
     ]
    },
    {
     "data": {
      "image/png": "[encoded data removed]",
      "text/plain": [
       "<IPython.core.display.Image object>"
      ]
     },
     "metadata": {},
     "output_type": "display_data"
    }
   ],
   "source": [
    "# Weight all bins by their energy content\n",
    "c = rt.TCanvas()\n",
    "h2 = df.Histo1D((\"h2\", \"Weighted ECal. Barrel Collection Energy;#bf{Energy,} #it{GeV};#bf{Counts}\", nbins, 0, 1), \n",
    "               \"ECalBarrelCollection.energy\")\n",
    "\n",
    "print(h.GetBinCenter(1))\n",
    "for ibin in range(1, nbins+1):\n",
    "    E_weighted = h.GetBinContent(ibin)*h.GetBinCenter(ibin)\n",
    "    h2.SetBinContent(ibin, E_weighted)\n",
    "    \n",
    "h2.Draw(\"\")\n",
    "# c.SetLogy()\n",
    "# c.SetLogx()\n",
    "c.Draw()"
   ]
  },
  {
   "cell_type": "markdown",
   "metadata": {},
   "source": [
    "How much of the total energy can you retain as a function of minimum energy threshold?"
   ]
  },
  {
   "cell_type": "markdown",
   "metadata": {},
   "source": [
    "## New Histogram Loop\n",
    "Trying to get this to work..."
   ]
  },
  {
   "cell_type": "code",
   "execution_count": 7,
   "metadata": {},
   "outputs": [
    {
     "data": {
      "image/png": "[encoded data removed]",
      "text/plain": [
       "<IPython.core.display.Image object>"
      ]
     },
     "metadata": {},
     "output_type": "display_data"
    }
   ],
   "source": [
    "c = rt.TCanvas(\"c\", \"1-D Histograms\", 1400, 500)\n",
    "c.Divide(2,1)\n",
    "# c.SetLogx()\n",
    "# c.SetLogy()\n",
    "hthr = rt.TH1D('hthr', 'hthr', nbins, 0, 1)\n",
    "\n",
    "hthr.GetYaxis().SetTitle(\"#bf{E_{Res.}}\")\n",
    "hthr.GetXaxis().SetTitle(\"#bf{E_{Th.}}\")\n",
    "\n",
    "htotal = rt.TH1D('hthr2', 'hthr2', nbins, 0, 1)\n",
    "\n",
    "error1 = ctypes.c_double(0)\n",
    "Ebin1 = h2.IntegralAndError(1, nbins, error1)\n",
    "for ibin in range(1, nbins+2):\n",
    "    error2 = ctypes.c_double(0)\n",
    "    E = h2.IntegralAndError(ibin, nbins, error2)\n",
    "    htotal.SetBinContent(ibin, Ebin1)\n",
    "    hthr.SetBinContent(ibin, E)\n",
    "\n",
    "c.cd(1)\n",
    "hthr.SetFillColorAlpha(rt.kBlue, 1)\n",
    "hthr.SetFillStyle(3004)\n",
    "hthr.Draw(\"E4\")\n",
    "c.cd(2)\n",
    "hthr.SetFillColorAlpha(rt.kBlue, .5)\n",
    "htotal.Draw(\"\")\n",
    "c.Draw()\n",
    "\n",
    "# print(hthr.GetBinContent(1))\n",
    "# print(htotal.GetBinContent(50))\n",
    "# print(h.GetBinContent(1))\n",
    "# df.Sum(\"ECalBarrelCollection.energy\").GetValue()"
   ]
  },
  {
   "cell_type": "code",
   "execution_count": 8,
   "metadata": {},
   "outputs": [
    {
     "name": "stderr",
     "output_type": "stream",
     "text": [
      "Info in <TCanvas::Print>: png file eff.png has been created\n"
     ]
    },
    {
     "data": {
      "image/png": "[encoded data removed]",
      "text/plain": [
       "<IPython.core.display.Image object>"
      ]
     },
     "metadata": {},
     "output_type": "display_data"
    }
   ],
   "source": [
    "c = rt.TCanvas(\"c97\", \"1-D Histograms\", 1000, 700)\n",
    "eff = rt.TEfficiency(hthr, htotal)\n",
    "eff = eff.CreateGraph()\n",
    "eff.SetTitle(\"Efficiency of Cut E_{Th.}\")\n",
    "eff.GetXaxis().SetTitle(\"#bf{E_{Th.}}, #it{GeV}\")\n",
    "eff.GetXaxis().SetRangeUser(0, 1)\n",
    "eff.GetYaxis().SetTitle(\"#bf{Ratio Retained}\")\n",
    "eff.GetYaxis().SetRangeUser(0, 1)\n",
    "eff.SetFillStyle(3004)\n",
    "eff.SetFillColor(600)\n",
    "eff.SetLineColor(rt.kBlack)\n",
    "# c.SetLogy()\n",
    "# c.SetLogx()\n",
    "eff.Draw('a3c')\n",
    "c.Print(\"eff.png\")\n",
    "c.Draw()"
   ]
  },
  {
   "cell_type": "markdown",
   "metadata": {},
   "source": [
    "## Numba with ROOT\n",
    "\n",
    "Numba allows you to employ pythonic operations in ROOT C++. This is useful for defining new columns, which typically requires using C++ syntax (which I don't know well)."
   ]
  },
  {
   "cell_type": "code",
   "execution_count": 11,
   "metadata": {},
   "outputs": [],
   "source": [
    "@rt.Numba.Declare(['float', 'int'], \"float\")    # Supply I/O types\n",
    "def pypow(x, y):    # Declare functions\n",
    "    return x**y"
   ]
  },
  {
   "cell_type": "code",
   "execution_count": 12,
   "metadata": {},
   "outputs": [
    {
     "name": "stderr",
     "output_type": "stream",
     "text": [
      "input_line_175:2:35: error: too few arguments to function call, expected 2, have 0\n",
      " cout << \"2^3 = \" << Numba::pypow() << endl; # Call in C++\n",
      "                     ~~~~~~~~~~~~ ^\n",
      "input_line_174:5:1: note: 'pypow' declared here\n",
      "float pypow(float x_0, int x_1) {\n",
      "^\n",
      "input_line_175:2:46: error: expected expression\n",
      " cout << \"2^3 = \" << Numba::pypow() << endl; # Call in C++\n",
      "                                             ^\n"
     ]
    }
   ],
   "source": [
    "%%cpp\n",
    "cout << \"2^3 = \" << Numba::pypow() << endl; # Call in C++"
   ]
  },
  {
   "cell_type": "code",
   "execution_count": 13,
   "metadata": {},
   "outputs": [],
   "source": [
    "@rt.Numba.Declare(['float', 'float'], \"bool\")\n",
    "def isAboveThreshold(threshold, value):\n",
    "    return value > threshold\n",
    "\n",
    "@rt.Numba.Declare(['float', 'float'], \"bool\")\n",
    "def isNotAboveThreshold(threshold, value):\n",
    "    return value <= threshold"
   ]
  },
  {
   "cell_type": "code",
   "execution_count": 14,
   "metadata": {},
   "outputs": [
    {
     "name": "stdout",
     "output_type": "stream",
     "text": [
      "76936.0\n"
     ]
    }
   ],
   "source": [
    "h = h.GetEntries()\n",
    "print(h)"
   ]
  }
 ],
 "metadata": {
  "kernelspec": {
   "display_name": "Python 3 (ipykernel)",
   "language": "python",
   "name": "python3"
  },
  "language_info": {
   "codemirror_mode": {
    "name": "ipython",
    "version": 3
   },
   "file_extension": ".py",
   "mimetype": "text/x-python",
   "name": "python",
   "nbconvert_exporter": "python",
   "pygments_lexer": "ipython3",
   "version": "3.9.6"
  },
  "orig_nbformat": 4
 },
 "nbformat": 4,
 "nbformat_minor": 2
}
