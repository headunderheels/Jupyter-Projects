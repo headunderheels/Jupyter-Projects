{
 "cells": [
  {
   "cell_type": "code",
   "execution_count": 1,
   "metadata": {},
   "outputs": [
    {
     "name": "stdout",
     "output_type": "stream",
     "text": [
      "Welcome to JupyROOT 6.24/06\n"
     ]
    }
   ],
   "source": [
    "import ROOT as r\n",
    "from glob import glob"
   ]
  },
  {
   "cell_type": "code",
   "execution_count": 2,
   "metadata": {},
   "outputs": [],
   "source": [
    "fnames = glob(\"/collab/project/snowmass21/data/muonc/fmeloni/DataMuC_MuColl10_v0A/photonGun_1000/reco_k4/*.root\")\n",
    "# print(len(fnames))    # importing correctly?"
   ]
  },
  {
   "cell_type": "code",
   "execution_count": 3,
   "metadata": {},
   "outputs": [],
   "source": [
    "nbins = 1000\n",
    "xlow = 0\n",
    "xhigh = 30\n",
    "ylow = 0\n",
    "yhigh = 10\n",
    "h1 = r.TH2D(\"h1\", \"h1\", nbins, xlow, xhigh, nbins, ylow, yhigh)"
   ]
  },
  {
   "cell_type": "code",
   "execution_count": 4,
   "metadata": {},
   "outputs": [],
   "source": [
    "i = 0\n",
    "for event in events:\n",
    "    if i%100 == 0: print(f\"Processing event {i}.\")\n",
    "        digiCollection = event.getCollection(\"ECALBarrel\")\n",
    "        simCollection = event.getCollection(\"ECalBarrelCollection\")\n",
    "        i = 0\n",
    "        for d in digiCollection:\n",
    "            i = i + d.getEnergy()\n",
    "        k = 0\n",
    "        for s in simCollection:\n",
    "            k = k + s.getEnergy()\n",
    "        h1.Fill(i, k)\n",
    "        i+=1\n",
    "        break"
   ]
  }
 ],
 "metadata": {
  "kernelspec": {
   "display_name": "Python 3",
   "language": "python",
   "name": "python3"
  },
  "language_info": {
   "codemirror_mode": {
    "name": "ipython",
    "version": 3
   },
   "file_extension": ".py",
   "mimetype": "text/x-python",
   "name": "python",
   "nbconvert_exporter": "python",
   "pygments_lexer": "ipython3",
   "version": "3.9.6"
  },
  "orig_nbformat": 4
 },
 "nbformat": 4,
 "nbformat_minor": 2
}
